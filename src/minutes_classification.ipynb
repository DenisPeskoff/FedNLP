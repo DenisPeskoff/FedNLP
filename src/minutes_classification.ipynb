{
 "cells": [
  {
   "cell_type": "code",
   "execution_count": 2,
   "metadata": {},
   "outputs": [],
   "source": [
    "import os\n",
    "import time\n",
    "from collections import defaultdict\n",
    "\n",
    "import openai\n",
    "import pandas as pd\n",
    "from tqdm import tqdm\n",
    "from dotenv import load_dotenv\n",
    "import tiktoken\n",
    "\n",
    "import utils\n",
    "from utils import extract_score\n",
    "\n",
    "label_to_score = utils.label_to_score\n",
    "\n",
    "load_dotenv()\n",
    "openai.api_key = os.getenv(\"OPENAI_KEY\")"
   ]
  },
  {
   "cell_type": "code",
   "execution_count": null,
   "metadata": {},
   "outputs": [],
   "source": [
    "speaker_minutes = pd.read_csv(\"../data/minutes.csv\")"
   ]
  },
  {
   "cell_type": "code",
   "execution_count": null,
   "metadata": {},
   "outputs": [],
   "source": [
    "prompt_template = \"\"\"\n",
    "<minutes>\n",
    "INPUT\n",
    "</minutes>\n",
    "<labels>\n",
    "Dovish: Strongly expresses a belief that the economy may be\n",
    "growing too slowly and may need stimulus through mon-\n",
    "etary policy.\n",
    "Mostly dovish: Overall message expresses a belief that the economy may\n",
    "be growing too slowly and may need stimulus through\n",
    "monetary policy.\n",
    "Neutral: Expresses neither a hawkish nor dovish view and is\n",
    "mostly objective.\n",
    "Mostly hawkish: Overall message expresses a belief that the economy is\n",
    "growing too quickly and may need to be slowed down\n",
    "through monetary policy.\n",
    "Hawkish: Strongly expresses a belief that the economy is growing\n",
    "too quickly and may need to be slowed down through monetary policy.\n",
    "</labels>\n",
    "Which label best applies applies to the minutes text as a whole above (Dovish, Mostly Dovish, Neutral, Mostly Hawkish, Hawkish)?\n",
    "\"\"\""
   ]
  },
  {
   "cell_type": "code",
   "execution_count": null,
   "metadata": {},
   "outputs": [],
   "source": [
    "scores = defaultdict(int)"
   ]
  },
  {
   "cell_type": "code",
   "execution_count": null,
   "metadata": {},
   "outputs": [],
   "source": [
    "for i, minutes in speaker_minutes.iterrows():\n",
    "    text = minutes[\"minutes_text\"]\n",
    "    response = None\n",
    "    while response is None:\n",
    "        try:\n",
    "            response = openai.ChatCompletion.create(\n",
    "                model=\"gpt-4-32k\",\n",
    "                messages=[\n",
    "                    {\"role\": \"user\", \"content\": prompt_template.replace(\"INPUT\", text)},\n",
    "                ],\n",
    "                temperature=0,\n",
    "            )\n",
    "        except Exception as e:\n",
    "            print(e)\n",
    "            time.sleep(1)\n",
    "    score = extract_score(response[\"choices\"][0][\"message\"][\"content\"])\n",
    "    print(minutes[\"date\"], score)\n",
    "    scores[minutes[\"date\"]] = score"
   ]
  },
  {
   "cell_type": "code",
   "execution_count": null,
   "metadata": {},
   "outputs": [],
   "source": [
    "import pandas as pd\n",
    "\n",
    "pd.DataFrame(scores.items(), columns=[\"date\", \"score\"]).to_csv(\n",
    "    \"../results/minutes_scores.csv\", index=False\n",
    ")"
   ]
  }
 ],
 "metadata": {
  "kernelspec": {
   "display_name": "resnik",
   "language": "python",
   "name": "python3"
  },
  "language_info": {
   "codemirror_mode": {
    "name": "ipython",
    "version": 3
   },
   "file_extension": ".py",
   "mimetype": "text/x-python",
   "name": "python",
   "nbconvert_exporter": "python",
   "pygments_lexer": "ipython3",
   "version": "3.10.13"
  },
  "orig_nbformat": 4
 },
 "nbformat": 4,
 "nbformat_minor": 2
}
