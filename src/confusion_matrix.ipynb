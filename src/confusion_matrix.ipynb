{
 "cells": [
  {
   "cell_type": "markdown",
   "id": "5d79f927",
   "metadata": {},
   "source": [
    "# This notebook creates confusion matrices and computes F1 scores for the FedNLP Hawk Dove project"
   ]
  },
  {
   "cell_type": "code",
   "execution_count": 38,
   "id": "0e9addba",
   "metadata": {},
   "outputs": [],
   "source": [
    "import pandas as pd\n",
    "import numpy as np\n",
    "import seaborn as sns\n",
    "from datetime import datetime\n",
    "import matplotlib.pyplot as plt\n",
    "from sklearn.metrics import confusion_matrix, f1_score"
   ]
  },
  {
   "cell_type": "code",
   "execution_count": 39,
   "id": "63e71df4",
   "metadata": {},
   "outputs": [],
   "source": [
    "def confusion_matrix_f1_score(data, reference):\n",
    "    # Convert continuous data to categorical data\n",
    "    data = pd.cut(data, bins=[-np.inf, 0, np.inf], labels=[0, 1])\n",
    "    reference = pd.cut(reference, bins=[-np.inf, 0, np.inf], labels=[0, 1])\n",
    "\n",
    "    # Compute confusion matrix and F1 score\n",
    "    cm = confusion_matrix(reference, data)\n",
    "    f1 = f1_score(reference, data)\n",
    "\n",
    "    return cm, f1"
   ]
  },
  {
   "cell_type": "code",
   "execution_count": 40,
   "id": "293e452d",
   "metadata": {},
   "outputs": [],
   "source": [
    "gold_label = pd.read_csv('../results/Manual_Labels.csv')\n",
    "statement = pd.read_csv('../results/statement_full_score.csv')\n",
    "statement_fewshot = pd.read_csv('../data/statement_fewshot_mean_score.csv')"
   ]
  },
  {
   "cell_type": "code",
   "execution_count": 41,
   "id": "a7614c31",
   "metadata": {},
   "outputs": [
    {
     "data": {
      "text/html": [
       "<div>\n",
       "<style scoped>\n",
       "    .dataframe tbody tr th:only-of-type {\n",
       "        vertical-align: middle;\n",
       "    }\n",
       "\n",
       "    .dataframe tbody tr th {\n",
       "        vertical-align: top;\n",
       "    }\n",
       "\n",
       "    .dataframe thead th {\n",
       "        text-align: right;\n",
       "    }\n",
       "</style>\n",
       "<table border=\"1\" class=\"dataframe\">\n",
       "  <thead>\n",
       "    <tr style=\"text-align: right;\">\n",
       "      <th></th>\n",
       "      <th>Unnamed: 0</th>\n",
       "      <th>year</th>\n",
       "      <th>mean_score</th>\n",
       "    </tr>\n",
       "  </thead>\n",
       "  <tbody>\n",
       "    <tr>\n",
       "      <th>0</th>\n",
       "      <td>0</td>\n",
       "      <td>19941115</td>\n",
       "      <td>0.500000</td>\n",
       "    </tr>\n",
       "    <tr>\n",
       "      <th>1</th>\n",
       "      <td>1</td>\n",
       "      <td>19950201</td>\n",
       "      <td>0.500000</td>\n",
       "    </tr>\n",
       "    <tr>\n",
       "      <th>2</th>\n",
       "      <td>2</td>\n",
       "      <td>19950706</td>\n",
       "      <td>-0.500000</td>\n",
       "    </tr>\n",
       "    <tr>\n",
       "      <th>3</th>\n",
       "      <td>3</td>\n",
       "      <td>19951219</td>\n",
       "      <td>-0.833333</td>\n",
       "    </tr>\n",
       "    <tr>\n",
       "      <th>4</th>\n",
       "      <td>4</td>\n",
       "      <td>19960131</td>\n",
       "      <td>0.000000</td>\n",
       "    </tr>\n",
       "    <tr>\n",
       "      <th>...</th>\n",
       "      <td>...</td>\n",
       "      <td>...</td>\n",
       "      <td>...</td>\n",
       "    </tr>\n",
       "    <tr>\n",
       "      <th>155</th>\n",
       "      <td>155</td>\n",
       "      <td>20160615</td>\n",
       "      <td>-0.420000</td>\n",
       "    </tr>\n",
       "    <tr>\n",
       "      <th>156</th>\n",
       "      <td>156</td>\n",
       "      <td>20160727</td>\n",
       "      <td>-0.275862</td>\n",
       "    </tr>\n",
       "    <tr>\n",
       "      <th>157</th>\n",
       "      <td>157</td>\n",
       "      <td>20160921</td>\n",
       "      <td>-0.296296</td>\n",
       "    </tr>\n",
       "    <tr>\n",
       "      <th>158</th>\n",
       "      <td>158</td>\n",
       "      <td>20161102</td>\n",
       "      <td>-0.296296</td>\n",
       "    </tr>\n",
       "    <tr>\n",
       "      <th>159</th>\n",
       "      <td>159</td>\n",
       "      <td>20161214</td>\n",
       "      <td>-0.280000</td>\n",
       "    </tr>\n",
       "  </tbody>\n",
       "</table>\n",
       "<p>160 rows × 3 columns</p>\n",
       "</div>"
      ],
      "text/plain": [
       "     Unnamed: 0      year  mean_score\n",
       "0             0  19941115    0.500000\n",
       "1             1  19950201    0.500000\n",
       "2             2  19950706   -0.500000\n",
       "3             3  19951219   -0.833333\n",
       "4             4  19960131    0.000000\n",
       "..          ...       ...         ...\n",
       "155         155  20160615   -0.420000\n",
       "156         156  20160727   -0.275862\n",
       "157         157  20160921   -0.296296\n",
       "158         158  20161102   -0.296296\n",
       "159         159  20161214   -0.280000\n",
       "\n",
       "[160 rows x 3 columns]"
      ]
     },
     "execution_count": 41,
     "metadata": {},
     "output_type": "execute_result"
    }
   ],
   "source": [
    "statement_fewshot"
   ]
  },
  {
   "cell_type": "code",
   "execution_count": 42,
   "id": "c21a314a",
   "metadata": {},
   "outputs": [],
   "source": [
    "result = pd.DataFrame({'year':list(statement['date']),\n",
    "                      'manual':list(gold_label['manual_label']),\n",
    "                      'gpt4':list(statement['result'])})"
   ]
  },
  {
   "cell_type": "code",
   "execution_count": 43,
   "id": "5e5b2597",
   "metadata": {},
   "outputs": [
    {
     "data": {
      "text/plain": [
       "(array([[115,  11],\n",
       "        [ 19,  20]]),\n",
       " 0.5714285714285714)"
      ]
     },
     "execution_count": 43,
     "metadata": {},
     "output_type": "execute_result"
    }
   ],
   "source": [
    "confusion_mat = confusion_matrix_f1_score(data = result['gpt4'], reference = result['manual'])\n",
    "confusion_mat"
   ]
  },
  {
   "cell_type": "code",
   "execution_count": 46,
   "id": "6b8cc8f7",
   "metadata": {},
   "outputs": [],
   "source": [
    "def convert_date(input_date):\n",
    "    try:\n",
    "        # Parse the input date string\n",
    "        date_obj = datetime.strptime(input_date, \"%m/%d/%Y\")\n",
    "\n",
    "        # Format the date as \"yyyymmdd\"\n",
    "        formatted_date = date_obj.strftime(\"%Y%m%d\")\n",
    "\n",
    "        return formatted_date\n",
    "    except ValueError:\n",
    "        return \"Invalid date format. Please use m/d/yyyy format.\""
   ]
  },
  {
   "cell_type": "code",
   "execution_count": 47,
   "id": "260458e7",
   "metadata": {
    "scrolled": true
   },
   "outputs": [],
   "source": [
    "# gold_label['date'] = gold_label['date'].apply(lambda x: convert_date(x))"
   ]
  },
  {
   "cell_type": "code",
   "execution_count": 53,
   "id": "140596cb",
   "metadata": {},
   "outputs": [
    {
     "data": {
      "text/html": [
       "<div>\n",
       "<style scoped>\n",
       "    .dataframe tbody tr th:only-of-type {\n",
       "        vertical-align: middle;\n",
       "    }\n",
       "\n",
       "    .dataframe tbody tr th {\n",
       "        vertical-align: top;\n",
       "    }\n",
       "\n",
       "    .dataframe thead th {\n",
       "        text-align: right;\n",
       "    }\n",
       "</style>\n",
       "<table border=\"1\" class=\"dataframe\">\n",
       "  <thead>\n",
       "    <tr style=\"text-align: right;\">\n",
       "      <th></th>\n",
       "      <th>date</th>\n",
       "      <th>manual_label</th>\n",
       "    </tr>\n",
       "  </thead>\n",
       "  <tbody>\n",
       "    <tr>\n",
       "      <th>0</th>\n",
       "      <td>19940204</td>\n",
       "      <td>0.5</td>\n",
       "    </tr>\n",
       "    <tr>\n",
       "      <th>1</th>\n",
       "      <td>19940322</td>\n",
       "      <td>0.5</td>\n",
       "    </tr>\n",
       "    <tr>\n",
       "      <th>2</th>\n",
       "      <td>19940418</td>\n",
       "      <td>0.5</td>\n",
       "    </tr>\n",
       "    <tr>\n",
       "      <th>3</th>\n",
       "      <td>19940517</td>\n",
       "      <td>0.5</td>\n",
       "    </tr>\n",
       "    <tr>\n",
       "      <th>4</th>\n",
       "      <td>19940816</td>\n",
       "      <td>1.0</td>\n",
       "    </tr>\n",
       "    <tr>\n",
       "      <th>...</th>\n",
       "      <td>...</td>\n",
       "      <td>...</td>\n",
       "    </tr>\n",
       "    <tr>\n",
       "      <th>160</th>\n",
       "      <td>20160615</td>\n",
       "      <td>-0.5</td>\n",
       "    </tr>\n",
       "    <tr>\n",
       "      <th>161</th>\n",
       "      <td>20160727</td>\n",
       "      <td>-0.5</td>\n",
       "    </tr>\n",
       "    <tr>\n",
       "      <th>162</th>\n",
       "      <td>20160921</td>\n",
       "      <td>-0.5</td>\n",
       "    </tr>\n",
       "    <tr>\n",
       "      <th>163</th>\n",
       "      <td>20161102</td>\n",
       "      <td>-0.5</td>\n",
       "    </tr>\n",
       "    <tr>\n",
       "      <th>164</th>\n",
       "      <td>20161214</td>\n",
       "      <td>-0.5</td>\n",
       "    </tr>\n",
       "  </tbody>\n",
       "</table>\n",
       "<p>165 rows × 2 columns</p>\n",
       "</div>"
      ],
      "text/plain": [
       "         date  manual_label\n",
       "0    19940204           0.5\n",
       "1    19940322           0.5\n",
       "2    19940418           0.5\n",
       "3    19940517           0.5\n",
       "4    19940816           1.0\n",
       "..        ...           ...\n",
       "160  20160615          -0.5\n",
       "161  20160727          -0.5\n",
       "162  20160921          -0.5\n",
       "163  20161102          -0.5\n",
       "164  20161214          -0.5\n",
       "\n",
       "[165 rows x 2 columns]"
      ]
     },
     "execution_count": 53,
     "metadata": {},
     "output_type": "execute_result"
    }
   ],
   "source": [
    "gold_label"
   ]
  },
  {
   "cell_type": "code",
   "execution_count": 62,
   "id": "f011bf6d",
   "metadata": {},
   "outputs": [],
   "source": [
    "gold_label = gold_label.rename(columns={\"date\": \"year\"})\n",
    "gold_label['year'] = pd.to_numeric(gold_label['year'])"
   ]
  },
  {
   "cell_type": "code",
   "execution_count": 64,
   "id": "1efe735c",
   "metadata": {},
   "outputs": [],
   "source": [
    "fewshot = statement_fewshot.merge(gold_label, on='year')"
   ]
  },
  {
   "cell_type": "code",
   "execution_count": 68,
   "id": "cbe27230",
   "metadata": {},
   "outputs": [
    {
     "data": {
      "text/plain": [
       "(array([[123,   3],\n",
       "        [ 19,  15]]),\n",
       " 0.576923076923077)"
      ]
     },
     "execution_count": 68,
     "metadata": {},
     "output_type": "execute_result"
    }
   ],
   "source": [
    "confusion_mat_fewshot = confusion_matrix_f1_score(data = fewshot['mean_score'], reference = fewshot['manual_label'])\n",
    "confusion_mat_fewshot"
   ]
  },
  {
   "cell_type": "code",
   "execution_count": 69,
   "id": "923b1c61",
   "metadata": {},
   "outputs": [
    {
     "data": {
      "text/plain": [
       "(array([[115,  11],\n",
       "        [ 19,  20]]),\n",
       " 0.5714285714285714)"
      ]
     },
     "execution_count": 69,
     "metadata": {},
     "output_type": "execute_result"
    }
   ],
   "source": [
    "confusion_mat"
   ]
  },
  {
   "cell_type": "code",
   "execution_count": null,
   "id": "a0ddee40",
   "metadata": {},
   "outputs": [],
   "source": []
  }
 ],
 "metadata": {
  "kernelspec": {
   "display_name": "Python 3 (ipykernel)",
   "language": "python",
   "name": "python3"
  },
  "language_info": {
   "codemirror_mode": {
    "name": "ipython",
    "version": 3
   },
   "file_extension": ".py",
   "mimetype": "text/x-python",
   "name": "python",
   "nbconvert_exporter": "python",
   "pygments_lexer": "ipython3",
   "version": "3.11.5"
  }
 },
 "nbformat": 4,
 "nbformat_minor": 5
}
