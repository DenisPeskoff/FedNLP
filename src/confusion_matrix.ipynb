{
 "cells": [
  {
   "cell_type": "markdown",
   "id": "5d79f927",
   "metadata": {},
   "source": [
    "# This notebook creates confusion matrices and computes F1 scores for the FedNLP Hawk Dove project"
   ]
  },
  {
   "cell_type": "code",
   "execution_count": 46,
   "id": "0e9addba",
   "metadata": {},
   "outputs": [],
   "source": [
    "import pandas as pd\n",
    "import numpy as np\n",
    "import seaborn as sns\n",
    "import matplotlib.pyplot as plt\n",
    "from sklearn.metrics import confusion_matrix, f1_score"
   ]
  },
  {
   "cell_type": "code",
   "execution_count": 47,
   "id": "63e71df4",
   "metadata": {},
   "outputs": [],
   "source": [
    "def confusion_matrix_f1_score(data, reference):\n",
    "    # Convert continuous data to categorical data\n",
    "    data = pd.cut(data, bins=[-np.inf, 0, np.inf], labels=[0, 1])\n",
    "    reference = pd.cut(reference, bins=[-np.inf, 0, np.inf], labels=[0, 1])\n",
    "\n",
    "    # Compute confusion matrix and F1 score\n",
    "    cm = confusion_matrix(reference, data)\n",
    "    f1 = f1_score(reference, data)\n",
    "\n",
    "    return cm, f1"
   ]
  },
  {
   "cell_type": "code",
   "execution_count": 48,
   "id": "293e452d",
   "metadata": {},
   "outputs": [],
   "source": [
    "gold_label = pd.read_csv('../results/Manual_Labels.csv')\n",
    "statement = pd.read_csv('../results/statement_full_score.csv')\n"
   ]
  },
  {
   "cell_type": "code",
   "execution_count": 49,
   "id": "c21a314a",
   "metadata": {},
   "outputs": [],
   "source": [
    "result = pd.DataFrame({'year':list(statement['date']),\n",
    "                      'manual':list(gold_label['manual_label']),\n",
    "                      'gpt4':list(statement['result'])})"
   ]
  },
  {
   "cell_type": "code",
   "execution_count": 50,
   "id": "5e5b2597",
   "metadata": {},
   "outputs": [],
   "source": [
    "confusion_mat = confusion_matrix_f1_score(data = result['gpt4'], reference = result['manual'])"
   ]
  },
  {
   "cell_type": "code",
   "execution_count": 55,
   "id": "bf36b1c0",
   "metadata": {},
   "outputs": [
    {
     "data": {
      "text/plain": [
       "(array([[115,  11],\n",
       "        [ 19,  20]]),\n",
       " 0.5714285714285714)"
      ]
     },
     "execution_count": 55,
     "metadata": {},
     "output_type": "execute_result"
    }
   ],
   "source": [
    "confusion_mat"
   ]
  },
  {
   "cell_type": "code",
   "execution_count": null,
   "id": "f8d7f0f1",
   "metadata": {},
   "outputs": [],
   "source": [
    "sns.heatmap()"
   ]
  }
 ],
 "metadata": {
  "kernelspec": {
   "display_name": "Python 3 (ipykernel)",
   "language": "python",
   "name": "python3"
  },
  "language_info": {
   "codemirror_mode": {
    "name": "ipython",
    "version": 3
   },
   "file_extension": ".py",
   "mimetype": "text/x-python",
   "name": "python",
   "nbconvert_exporter": "python",
   "pygments_lexer": "ipython3",
   "version": "3.11.5"
  }
 },
 "nbformat": 4,
 "nbformat_minor": 5
}
