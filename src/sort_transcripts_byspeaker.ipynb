{
 "cells": [
  {
   "cell_type": "code",
   "execution_count": null,
   "id": "efe3cb91",
   "metadata": {},
   "outputs": [],
   "source": [
    "import re\n",
    "import pandas as pd\n",
    "from itertools import islice\n",
    "def take(n, iterable):\n",
    "    \"\"\"Return the first n items of the iterable as a list.\"\"\"\n",
    "    return list(islice(iterable, n))\n",
    "transcripts = pd.read_csv('../data/transcripts.csv')\n",
    "transcripts.head()\n"
   ]
  },
  {
   "cell_type": "code",
   "execution_count": null,
   "id": "a7cb3a18",
   "metadata": {},
   "outputs": [],
   "source": [
    "new_column = []\n",
    "for index, transcript in enumerate(transcripts['transcripts_text']):\n",
    "    all_speakers = {}\n",
    "    #the logic identifies any sequence of 6 capitals. \n",
    "    #Due to the existence of MR. NAME and SPEAKER(?) it allows for . a space and (?)\n",
    "    ALLCAPS =  r\"([A-Z .?()]{7,})\\.(.*?)(?=([A-Z .?()]{7,})\\.)\"\n",
    "    speakers = re.findall(ALLCAPS, transcript)\n",
    "    for speaker, text, a in speakers:\n",
    "        speaker = speaker.strip('. ?')\n",
    "        if speaker not in all_speakers.keys():\n",
    "            all_speakers[speaker] = [text]\n",
    "        else:\n",
    "            all_speakers[speaker].append(text)\n",
    "    print(\"Appended\", str(len(all_speakers)), \"speakers for the transcript from\", \n",
    "          transcripts['date'][index], \". Some speakers in this transcript were \", take(3, all_speakers.keys()))\n",
    "    new_column.append(all_speakers)\n"
   ]
  },
  {
   "cell_type": "code",
   "execution_count": null,
   "id": "afc8211d",
   "metadata": {},
   "outputs": [],
   "source": [
    "transcripts['speaker_text'] = new_column\n",
    "transcripts.to_csv('../data/transcripts_byspeaker.csv')"
   ]
  },
  {
   "cell_type": "code",
   "execution_count": null,
   "id": "a707ea90",
   "metadata": {},
   "outputs": [],
   "source": [
    "transcripts.head()"
   ]
  },
  {
   "cell_type": "code",
   "execution_count": null,
   "id": "fb6857ae",
   "metadata": {},
   "outputs": [],
   "source": [
    "transcripts.iloc[0][\"speaker_text\"]"
   ]
  }
 ],
 "metadata": {
  "kernelspec": {
   "display_name": "fed",
   "language": "python",
   "name": "python3"
  },
  "language_info": {
   "codemirror_mode": {
    "name": "ipython",
    "version": 3
   },
   "file_extension": ".py",
   "mimetype": "text/x-python",
   "name": "python",
   "nbconvert_exporter": "python",
   "pygments_lexer": "ipython3",
   "version": "3.10.13"
  }
 },
 "nbformat": 4,
 "nbformat_minor": 5
}
