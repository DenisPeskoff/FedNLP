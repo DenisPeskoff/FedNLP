{
 "cells": [
  {
   "cell_type": "code",
   "execution_count": 54,
   "id": "5c46010a",
   "metadata": {},
   "outputs": [],
   "source": [
    "import json\n",
    "import pandas as pd\n",
    "import numpy as np\n",
    "from itertools import chain"
   ]
  },
  {
   "cell_type": "code",
   "execution_count": 55,
   "id": "f97c76e3",
   "metadata": {},
   "outputs": [],
   "source": [
    "with open('../results/transcripts_full_score.json') as file:\n",
    "    transcripts_dict = json.load(file)"
   ]
  },
  {
   "cell_type": "code",
   "execution_count": 73,
   "id": "9c078da5",
   "metadata": {},
   "outputs": [],
   "source": [
    "year = []\n",
    "score = []\n",
    "for key, value in transcripts_dict.items():\n",
    "    scores = [x for x in list(chain.from_iterable(value.values())) if isinstance(x, int) or isinstance(x, float)]\n",
    "    \n",
    "    year.append(key)\n",
    "    score.append(np.mean(scores))"
   ]
  },
  {
   "cell_type": "code",
   "execution_count": 74,
   "id": "4431f463",
   "metadata": {},
   "outputs": [],
   "source": [
    "mean_scores = pd.DataFrame(list(zip(year, score)), columns = ['year', 'score'])"
   ]
  },
  {
   "cell_type": "code",
   "execution_count": 56,
   "id": "49c9499e",
   "metadata": {},
   "outputs": [],
   "source": [
    "def logit(scores):\n",
    "    '''\n",
    "    scores::list\n",
    "    Computes logit score for the list of input scores\n",
    "    '''\n",
    "    scores = [x for x in scores if isinstance(x, int) or isinstance(x, float)]\n",
    "    hawk = sum([i for i in scores if i>0 ])\n",
    "    dove = abs(sum([i for i in scores if i< 0 ]))\n",
    "    \n",
    "    logit_scaled = np.log((hawk+0.5)/(dove+0.5))\n",
    "\n",
    "    return(logit_scaled)"
   ]
  },
  {
   "cell_type": "code",
   "execution_count": 61,
   "id": "5e468e62",
   "metadata": {},
   "outputs": [],
   "source": [
    "year = []\n",
    "score = []\n",
    "for key, value in transcripts_dict.items():\n",
    "    year.append(key)\n",
    "    score.append(logit(list(chain.from_iterable(value.values()))))\n",
    "    \n",
    "logit_scores = pd.DataFrame(list(zip(year, score)), columns = ['year', 'score'])"
   ]
  },
  {
   "cell_type": "code",
   "execution_count": null,
   "id": "160825f8",
   "metadata": {},
   "outputs": [],
   "source": [
    "logit_scores.to_csv('../results/transcript_logit.csv', index=False)\n",
    "mean_scores.to_csv('../results/transcript_mean.csv', index=False)"
   ]
  },
  {
   "cell_type": "code",
   "execution_count": null,
   "id": "2d9d711a",
   "metadata": {},
   "outputs": [],
   "source": []
  }
 ],
 "metadata": {
  "kernelspec": {
   "display_name": "Python 3 (ipykernel)",
   "language": "python",
   "name": "python3"
  },
  "language_info": {
   "codemirror_mode": {
    "name": "ipython",
    "version": 3
   },
   "file_extension": ".py",
   "mimetype": "text/x-python",
   "name": "python",
   "nbconvert_exporter": "python",
   "pygments_lexer": "ipython3",
   "version": "3.11.5"
  }
 },
 "nbformat": 4,
 "nbformat_minor": 5
}
