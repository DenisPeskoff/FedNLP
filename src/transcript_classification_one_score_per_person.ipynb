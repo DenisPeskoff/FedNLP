{
 "cells": [
  {
   "cell_type": "code",
   "execution_count": null,
   "metadata": {},
   "outputs": [],
   "source": [
    "# score per person per paragraph\n",
    "import os\n",
    "import time\n",
    "from collections import defaultdict\n",
    "\n",
    "import openai\n",
    "import pandas as pd\n",
    "from tqdm import tqdm\n",
    "from dotenv import load_dotenv\n",
    "import json\n",
    "\n",
    "import utils\n",
    "from utils import extract_score\n",
    "\n",
    "label_to_score = utils.label_to_score\n",
    "\n",
    "load_dotenv()\n",
    "openai.api_key = os.getenv(\"OPENAI_KEY\")"
   ]
  },
  {
   "cell_type": "code",
   "execution_count": null,
   "metadata": {},
   "outputs": [],
   "source": [
    "speaker_transcripts = pd.read_csv('../data/transcripts_byspeaker.csv')"
   ]
  },
  {
   "cell_type": "code",
   "execution_count": null,
   "metadata": {},
   "outputs": [],
   "source": [
    "prompt_template = \"\"\"\n",
    "<sentences>\n",
    "INPUT\n",
    "</sentences>\n",
    "<labels>\n",
    "Dovish: Strongly expresses a belief that the economy may be\n",
    "growing too slowly and may need stimulus through mon-\n",
    "etary policy.\n",
    "Mostly dovish: Overall message expresses a belief that the economy may\n",
    "be growing too slowly and may need stimulus through\n",
    "monetary policy.\n",
    "Neutral: Expresses neither a hawkish nor dovish view and is\n",
    "mostly objective.\n",
    "Mostly hawkish: Overall message expresses a belief that the economy is\n",
    "growing too quickly and may need to be slowed down\n",
    "through monetary policy.\n",
    "Hawkish: Strongly expresses a belief that the economy is growing\n",
    "too quickly and may need to be slowed down through monetary policy.\n",
    "</labels>\n",
    "Are sentences are all phrases said by a single speaker in a transcript. Which label best applies applies all of the sentences taken as a whole (Dovish, Mostly Dovish, Neutral, Mostly Hawkish, Hawkish)?\n",
    "\"\"\""
   ]
  },
  {
   "cell_type": "code",
   "execution_count": null,
   "metadata": {},
   "outputs": [],
   "source": [
    "from collections import defaultdict\n",
    "import ast\n",
    "\n",
    "scores = defaultdict(lambda: defaultdict(list))"
   ]
  },
  {
   "cell_type": "code",
   "execution_count": null,
   "metadata": {},
   "outputs": [],
   "source": [
    "\n",
    "for i, transcript in tqdm(speaker_transcripts.iterrows()):\n",
    "    transcript_scores = scores[transcript[\"date\"]]\n",
    "    speakers_dict = ast.literal_eval(transcript[\"speaker_text\"])\n",
    "    for speaker in speakers_dict:\n",
    "        speaker_scores = transcript_scores[speaker]\n",
    "        speaker_statements = \"\".join(speakers_dict[speaker])\n",
    "        # print(speaker_statements)\n",
    "        response = None\n",
    "        while response is None:\n",
    "            try:\n",
    "                response = openai.ChatCompletion.create(\n",
    "                    model=\"gpt-4-32k\",\n",
    "                    messages=[\n",
    "                            {\"role\": \"user\", \"content\": prompt_template.replace(\"INPUT\", speaker_statements)},\n",
    "                        ],\n",
    "                    temperature=0\n",
    "                )\n",
    "            except Exception as e:\n",
    "                print(e)\n",
    "                time.sleep(1)\n",
    "        score = extract_score(response[\"choices\"][0][\"message\"][\"content\"])\n",
    "        speaker_scores.append(score)\n"
   ]
  },
  {
   "cell_type": "code",
   "execution_count": null,
   "metadata": {},
   "outputs": [],
   "source": [
    "import json\n",
    "with open('../results/transcripts_full_score.json', 'w') as f:\n",
    "    json.dump(scores, f, indent=4)"
   ]
  }
 ],
 "metadata": {
  "kernelspec": {
   "display_name": "resnik",
   "language": "python",
   "name": "python3"
  },
  "language_info": {
   "codemirror_mode": {
    "name": "ipython",
    "version": 3
   },
   "file_extension": ".py",
   "mimetype": "text/x-python",
   "name": "python",
   "nbconvert_exporter": "python",
   "pygments_lexer": "ipython3",
   "version": "3.10.13"
  },
  "orig_nbformat": 4
 },
 "nbformat": 4,
 "nbformat_minor": 2
}
