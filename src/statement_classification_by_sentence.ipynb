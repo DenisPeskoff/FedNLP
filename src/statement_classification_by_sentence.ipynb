{
 "cells": [
  {
   "cell_type": "code",
   "execution_count": null,
   "metadata": {},
   "outputs": [],
   "source": [
    "# classifying statements by first classifying each sentence\n",
    "\n",
    "import openai\n",
    "import pandas as pd\n",
    "import time\n",
    "from tqdm import tqdm\n",
    "from dotenv import load_dotenv\n",
    "import os\n",
    "\n",
    "import utils\n",
    "from utils import extract_score\n",
    "\n",
    "label_to_score = utils.label_to_score\n",
    "\n",
    "load_dotenv()\n",
    "openai.api_key=os.getenv(\"OPENAI_KEY\")"
   ]
  },
  {
   "cell_type": "code",
   "execution_count": null,
   "metadata": {},
   "outputs": [],
   "source": [
    "statements = pd.read_csv('../data/statements.csv')"
   ]
  },
  {
   "cell_type": "code",
   "execution_count": null,
   "metadata": {},
   "outputs": [],
   "source": [
    "prompt_template = \"\"\"\n",
    "<sentence>\n",
    "INPUT\n",
    "</sentence>\n",
    "<labels>\n",
    "Dovish: Strongly expresses a belief that the economy may be\n",
    "growing too slowly and may need stimulus through mon-\n",
    "etary policy.\n",
    "Mostly dovish: Overall message expresses a belief that the economy may\n",
    "be growing too slowly and may need stimulus through\n",
    "monetary policy.\n",
    "Neutral: Expresses neither a hawkish nor dovish view and is\n",
    "mostly objective.\n",
    "Mostly hawkish: Overall message expresses a belief that the economy is\n",
    "growing too quickly and may need to be slowed down\n",
    "through monetary policy.\n",
    "Hawkish: Strongly expresses a belief that the economy is growing\n",
    "too quickly and may need to be slowed down through monetary policy.\n",
    "</labels>\n",
    "Which label best applies applies to the sentence (Dovish, Mostly Dovish, Neutral, Mostly Hawkish, Hawkish)?\n",
    "\"\"\""
   ]
  },
  {
   "cell_type": "code",
   "execution_count": null,
   "metadata": {},
   "outputs": [],
   "source": [
    "global_sentence_scores = {}\n",
    "for i, statement in tqdm(statements.iterrows()):\n",
    "    text = statement['statements_text']\n",
    "    sentences = text.split('.')\n",
    "    sentence_scores = []\n",
    "    for sentence in sentences:\n",
    "        if len(sentence) < 5:\n",
    "            sentence_scores.append(\"TOO SHORT\")\n",
    "            continue\n",
    "        # call GPT-4\n",
    "        response = None\n",
    "        while response is None:\n",
    "            try:\n",
    "                response = openai.ChatCompletion.create(\n",
    "                model=\"gpt-4\",\n",
    "                messages=[\n",
    "                        {\"role\": \"user\", \"content\": prompt_template.replace(\"INPUT\", sentence)},\n",
    "                    ],\n",
    "                temperature=0\n",
    "                )\n",
    "            except Exception as e:\n",
    "                print(e)\n",
    "                time.sleep(1)\n",
    "        sentence_score = extract_score(response[\"choices\"][0][\"message\"][\"content\"])\n",
    "        sentence_scores.append(sentence_score)\n",
    "    global_sentence_scores[statement[\"date\"]] = sentence_scores"
   ]
  },
  {
   "cell_type": "code",
   "execution_count": null,
   "metadata": {},
   "outputs": [],
   "source": [
    "global_sentence_scores"
   ]
  },
  {
   "cell_type": "code",
   "execution_count": null,
   "metadata": {},
   "outputs": [],
   "source": [
    "import json\n",
    "# Specify the file path where you want to save the JSON file\n",
    "file_path = '../results/statements_scores_by_sentence.json'\n",
    "\n",
    "# Convert the dictionary to JSON format\n",
    "json_data = json.dumps(global_sentence_scores)\n",
    "\n",
    "# Write the JSON data to the file\n",
    "with open(file_path, 'w') as file:\n",
    "    file.write(json_data)"
   ]
  }
 ],
 "metadata": {
  "kernelspec": {
   "display_name": "resnik",
   "language": "python",
   "name": "python3"
  },
  "language_info": {
   "codemirror_mode": {
    "name": "ipython",
    "version": 3
   },
   "file_extension": ".py",
   "mimetype": "text/x-python",
   "name": "python",
   "nbconvert_exporter": "python",
   "pygments_lexer": "ipython3",
   "version": "3.10.13"
  },
  "orig_nbformat": 4
 },
 "nbformat": 4,
 "nbformat_minor": 2
}
