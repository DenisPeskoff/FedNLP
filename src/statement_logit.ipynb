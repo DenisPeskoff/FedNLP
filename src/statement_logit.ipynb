{
 "cells": [
  {
   "cell_type": "code",
   "execution_count": 140,
   "id": "5c46010a",
   "metadata": {},
   "outputs": [],
   "source": [
    "import json\n",
    "import pandas as pd\n",
    "import numpy as np"
   ]
  },
  {
   "cell_type": "code",
   "execution_count": 141,
   "id": "966ef717",
   "metadata": {},
   "outputs": [],
   "source": [
    "with open('../results/statements_scores_by_sentence.json') as file:\n",
    "    statements_dict = json.load(file)"
   ]
  },
  {
   "cell_type": "code",
   "execution_count": 142,
   "id": "800daa0d",
   "metadata": {},
   "outputs": [],
   "source": [
    "def logit(scores):\n",
    "    '''\n",
    "    scores::list\n",
    "    Computes logit score for the list of input scores\n",
    "    '''\n",
    "    scores = [x for x in scores if isinstance(x, int)]\n",
    "    \n",
    "    hawk = sum([i for i in scores if i>0 ])\n",
    "    dove = abs(sum([i for i in scores if i< 0 ]))\n",
    "    \n",
    "    logit_scaled = np.log((hawk+0.5)/(dove+0.5))\n",
    "\n",
    "    return(logit_scaled)"
   ]
  },
  {
   "cell_type": "code",
   "execution_count": 143,
   "id": "17eeddbb",
   "metadata": {},
   "outputs": [],
   "source": [
    "year = []\n",
    "score = []\n",
    "for key, value in statements_dict.items():\n",
    "    year.append(key)\n",
    "    score.append(logit(value))\n",
    "    \n",
    "result = pd.DataFrame(list(zip(year, score)), columns = ['year', 'score'])"
   ]
  },
  {
   "cell_type": "code",
   "execution_count": 139,
   "id": "a9a6d67c",
   "metadata": {},
   "outputs": [],
   "source": [
    "result.to_csv('../results/statements_scores_by_sentence_logit.csv')"
   ]
  },
  {
   "cell_type": "code",
   "execution_count": null,
   "id": "ffdca061",
   "metadata": {},
   "outputs": [],
   "source": []
  },
  {
   "cell_type": "code",
   "execution_count": null,
   "id": "66119065",
   "metadata": {},
   "outputs": [],
   "source": []
  }
 ],
 "metadata": {
  "kernelspec": {
   "display_name": "Python 3 (ipykernel)",
   "language": "python",
   "name": "python3"
  },
  "language_info": {
   "codemirror_mode": {
    "name": "ipython",
    "version": 3
   },
   "file_extension": ".py",
   "mimetype": "text/x-python",
   "name": "python",
   "nbconvert_exporter": "python",
   "pygments_lexer": "ipython3",
   "version": "3.11.5"
  }
 },
 "nbformat": 4,
 "nbformat_minor": 5
}
