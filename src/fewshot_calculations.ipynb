{
 "cells": [
  {
   "cell_type": "code",
   "execution_count": 5,
   "id": "261e75cc",
   "metadata": {},
   "outputs": [],
   "source": [
    "import json\n",
    "import pandas as pd\n",
    "import numpy as np\n",
    "from itertools import chain\n",
    "import matplotlib.pyplot as plt"
   ]
  },
  {
   "cell_type": "code",
   "execution_count": 6,
   "id": "f09510b1",
   "metadata": {},
   "outputs": [],
   "source": [
    "with open('../results/statements_scores_by_sentence_few_shot.json') as file:\n",
    "    statement_fewshot_dict = json.load(file)"
   ]
  },
  {
   "cell_type": "code",
   "execution_count": 48,
   "id": "b9a051a4",
   "metadata": {},
   "outputs": [],
   "source": [
    "def logit(scores):\n",
    "    '''\n",
    "    scores::list\n",
    "    Computes logit score for the list of input scores\n",
    "    '''\n",
    "    scores = [x for x in scores if isinstance(x, int) or isinstance(x, float)]\n",
    "    hawk = sum([i for i in scores if i>0 ])\n",
    "    dove = abs(sum([i for i in scores if i< 0 ]))\n",
    "    \n",
    "    logit_scaled = np.log((hawk+0.5)/(dove+0.5))\n",
    "\n",
    "    return(logit_scaled)"
   ]
  },
  {
   "cell_type": "code",
   "execution_count": 52,
   "id": "45ef6f42",
   "metadata": {},
   "outputs": [],
   "source": [
    "year = []\n",
    "mean_score = []\n",
    "sd_score = []\n",
    "logit_score = []\n",
    "for key, value in zip(statement_fewshot_dict.keys(), statement_fewshot_dict.values()):\n",
    "    year.append(key)\n",
    "    mean_score.append(np.mean([s for s in value if isinstance(s, int) or isinstance(s, float)]))\n",
    "    sd_score.append(np.std([s for s in value if isinstance(s, int) or isinstance(s, float)]))\n",
    "    logit_score.append(logit([s for s in value if isinstance(s, int) or isinstance(s, float)]))\n"
   ]
  },
  {
   "cell_type": "code",
   "execution_count": 51,
   "id": "da08624e",
   "metadata": {},
   "outputs": [],
   "source": [
    "results = pd.DataFrame(list(zip(year, mean_score, sd_score, logit_score)), \n",
    "                           columns = ['year', 'mean_score', 'sd_score', 'logit_score'])"
   ]
  },
  {
   "cell_type": "code",
   "execution_count": 59,
   "id": "6312b0d1",
   "metadata": {},
   "outputs": [],
   "source": [
    "results[['year', 'mean_score']].to_csv('../data/statement_fewshot_mean_score.csv')\n",
    "results[['year', 'sd_score']].to_csv('../data/statement_fewshot_sd_score.csv')\n",
    "results[['year', 'logit_score']].to_csv('../data/statement_fewshot_logit.csv')"
   ]
  },
  {
   "cell_type": "code",
   "execution_count": null,
   "id": "dedaa7c7",
   "metadata": {},
   "outputs": [],
   "source": []
  }
 ],
 "metadata": {
  "kernelspec": {
   "display_name": "Python 3 (ipykernel)",
   "language": "python",
   "name": "python3"
  },
  "language_info": {
   "codemirror_mode": {
    "name": "ipython",
    "version": 3
   },
   "file_extension": ".py",
   "mimetype": "text/x-python",
   "name": "python",
   "nbconvert_exporter": "python",
   "pygments_lexer": "ipython3",
   "version": "3.11.5"
  }
 },
 "nbformat": 4,
 "nbformat_minor": 5
}
